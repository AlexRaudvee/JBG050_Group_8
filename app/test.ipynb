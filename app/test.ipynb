{
 "cells": [
  {
   "cell_type": "code",
   "execution_count": 1,
   "metadata": {},
   "outputs": [],
   "source": [
    "# imports \n",
    "import os\n",
    "import sys\n",
    "import pandas as pd\n",
    "import seaborn as sns\n",
    "import plotly.express as px\n",
    "import matplotlib.pyplot as plt\n",
    "import plotly.graph_objects as go\n",
    "from scipy.stats import linregress\n",
    "from plotly.subplots import make_subplots\n",
    "import glob"
   ]
  },
  {
   "cell_type": "code",
   "execution_count": 2,
   "metadata": {},
   "outputs": [
    {
     "name": "stdout",
     "output_type": "stream",
     "text": [
      "Current working directory: /Users/pvicovanberkel/PycharmProjects/JBG050_Group_8/app\n"
     ]
    },
    {
     "data": {
      "text/html": [
       "<iframe\n",
       "    scrolling=\"no\"\n",
       "    width=\"100%\"\n",
       "    height=\"620\"\n",
       "    src=\"iframe_figures/figure_2.html\"\n",
       "    frameborder=\"0\"\n",
       "    allowfullscreen\n",
       "></iframe>\n"
      ]
     },
     "metadata": {},
     "output_type": "display_data"
    },
    {
     "name": "stdout",
     "output_type": "stream",
     "text": [
      "Crime Statistics:\n",
      "                      Crime type    Count\n",
      "0          Anti-social behaviour  3705162\n",
      "1   Violence and sexual offences  2352790\n",
      "2                    Other theft  1512721\n",
      "3                  Vehicle crime  1317048\n",
      "4                       Burglary   966637\n",
      "5      Criminal damage and arson   712100\n",
      "6                   Public order   521379\n",
      "7                    Shoplifting   519159\n",
      "8                          Drugs   511607\n",
      "9                    Other crime   486136\n",
      "10         Theft from the person   484486\n",
      "11                       Robbery   390488\n",
      "12                 Violent crime   339718\n",
      "13                 Bicycle theft   206525\n",
      "14         Possession of weapons    54811\n",
      "15   Public disorder and weapons    50433\n"
     ]
    },
    {
     "data": {
      "text/html": [
       "<iframe\n",
       "    scrolling=\"no\"\n",
       "    width=\"100%\"\n",
       "    height=\"545px\"\n",
       "    src=\"iframe_figures/figure_2.html\"\n",
       "    frameborder=\"0\"\n",
       "    allowfullscreen\n",
       "></iframe>\n"
      ]
     },
     "metadata": {},
     "output_type": "display_data"
    }
   ],
   "source": [
    "# imports\n",
    "import os\n",
    "import pandas as pd\n",
    "import plotly.express as px\n",
    "import plotly.io as pio\n",
    "\n",
    "# Ensure the correct renderer is used for Jupyter notebooks\n",
    "pio.renderers.default = \"iframe\"\n",
    "\n",
    "# DEFINE FUNCTIONS\n",
    "\n",
    "def plot_crime_map(df: pd.DataFrame, sample_size=10000):\n",
    "    # Sample the data if it's too large\n",
    "    if len(df) > sample_size:\n",
    "        df = df.sample(sample_size)\n",
    "    \n",
    "    fig = px.scatter_mapbox(\n",
    "        df, lat=\"Latitude\", lon=\"Longitude\", color=\"Crime type\", hover_name=\"Location\",\n",
    "        hover_data=[\"Crime type\", \"Last outcome category\", \"Month\"], zoom=10, height=600,\n",
    "        title=\"Crime locations in London\"\n",
    "    )\n",
    "    fig.update_layout(mapbox_style=\"open-street-map\")\n",
    "    fig.show()\n",
    "\n",
    "# MAIN SCRIPT\n",
    "\n",
    "# Define data directory\n",
    "data_dir = '../data/met_data'\n",
    "\n",
    "# Debug: Print the current working directory\n",
    "print(f\"Current working directory: {os.getcwd()}\")\n",
    "\n",
    "# Check if the directory exists\n",
    "if not os.path.exists(data_dir):\n",
    "    raise Exception(f\"Data directory '{data_dir}' does not exist.\")\n",
    "else:\n",
    "    all_files = []\n",
    "    for root, dirs, files in os.walk(data_dir):\n",
    "        for file in files:\n",
    "            if file.endswith('-metropolitan-street.csv'):\n",
    "                all_files.append(os.path.join(root, file))\n",
    "\n",
    "    # Check if there are any files to read\n",
    "    if not all_files:\n",
    "        raise Exception(f\"No CSV files found in the directory '{data_dir}'.\")\n",
    "    else:\n",
    "        df_list = [pd.read_csv(file) for file in all_files]\n",
    "\n",
    "        # Check if there are any DataFrames to concatenate\n",
    "        if not df_list:\n",
    "            raise Exception(\"No dataframes to concatenate.\")\n",
    "        else:\n",
    "            # Combine all dataframes into one\n",
    "            df_all_years = pd.concat(df_list, ignore_index=True)\n",
    "\n",
    "            # Display the map with all crimes\n",
    "            plot_crime_map(df=df_all_years)\n",
    "\n",
    "            # Optionally, display some statistics or other visualizations\n",
    "            print(\"Crime Statistics:\")\n",
    "            crime_counts = df_all_years['Crime type'].value_counts().reset_index()\n",
    "            crime_counts.columns = ['Crime type', 'Count']\n",
    "            print(crime_counts)\n",
    "\n",
    "            # Plot a bar chart of crime counts\n",
    "            fig = px.bar(crime_counts, x='Crime type', y='Count', title='Total Crime Counts by Type')\n",
    "            fig.show()\n"
   ]
  },
  {
   "cell_type": "code",
   "execution_count": null,
   "metadata": {},
   "outputs": [],
   "source": []
  }
 ],
 "metadata": {
  "kernelspec": {
   "display_name": "dc2",
   "language": "python",
   "name": "python3"
  },
  "language_info": {
   "codemirror_mode": {
    "name": "ipython",
    "version": 3
   },
   "file_extension": ".py",
   "mimetype": "text/x-python",
   "name": "python",
   "nbconvert_exporter": "python",
   "pygments_lexer": "ipython3",
   "version": "3.9.13"
  },
  "orig_nbformat": 4,
  "vscode": {
   "interpreter": {
    "hash": "f85898680f01b831a416266c476be0d02acc82894c7aedd37bcd5fb7345f16f9"
   }
  }
 },
 "nbformat": 4,
 "nbformat_minor": 2
}
