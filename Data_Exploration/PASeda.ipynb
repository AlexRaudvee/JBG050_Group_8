{
 "cells": [
  {
   "cell_type": "code",
   "execution_count": 1,
   "metadata": {},
   "outputs": [],
   "source": [
    "# Impprts\n",
    "import pandas as pd\n",
    "import openpyxl\n",
    "import matplotlib.pyplot as plt\n",
    "import seaborn as sns"
   ]
  },
  {
   "attachments": {},
   "cell_type": "markdown",
   "metadata": {},
   "source": [
    "## PAS Data EDA"
   ]
  },
  {
   "cell_type": "code",
   "execution_count": 6,
   "metadata": {},
   "outputs": [
    {
     "name": "stdout",
     "output_type": "stream",
     "text": [
      "Sheet name: Sheet1\n",
      "             Unnamed: 0         Unnamed: 1\n",
      "0                Survey              (All)\n",
      "1                   NaN                NaN\n",
      "2            Row Labels  Sum of Proportion\n",
      "3  Barking and Dagenham               73.9\n",
      "4                Barnet              74.83\n",
      "Sheet name: MPS\n",
      "        Date Survey Borough                Measure  Proportion\n",
      "0 2014-12-31    PAS     MPS       \"Good Job\" local        0.67\n",
      "1 2014-12-31    PAS     MPS   Contact ward officer        0.41\n",
      "2 2014-12-31    PAS     MPS         Informed local        0.49\n",
      "3 2014-12-31    PAS     MPS     Listen to concerns        0.74\n",
      "4 2014-12-31    PAS     MPS  Relied on to be there        0.77\n",
      "Sheet name: Borough\n",
      "        Date Survey               Borough           Measure  Proportion   MPS  \\\n",
      "0 2014-12-31    PAS  Barking and Dagenham  \"Good Job\" local        0.56  0.67   \n",
      "1 2014-12-31    PAS                Barnet  \"Good Job\" local        0.67  0.67   \n",
      "2 2014-12-31    PAS                Bexley  \"Good Job\" local        0.72  0.67   \n",
      "3 2014-12-31    PAS                 Brent  \"Good Job\" local        0.66  0.67   \n",
      "4 2014-12-31    PAS               Bromley  \"Good Job\" local        0.71  0.67   \n",
      "\n",
      "   Unnamed: 6  Unnamed: 7 Unnamed: 8  Unnamed: 9  \n",
      "0         NaN         NaN        NaN         NaN  \n",
      "1         NaN         NaN        NaN         NaN  \n",
      "2         NaN         NaN        NaN         NaN  \n",
      "3         NaN         NaN        NaN         NaN  \n",
      "4         NaN         NaN        NaN         NaN  \n",
      "Sheet name: PAS London Level\n",
      "        Date FY Quarter Quarter    Year  FY & Quarter     Period  \\\n",
      "0 2019-06-01   Q1 19-20      Q1  2019/20   2019/20 Q1  Quarterly   \n",
      "1 2019-09-01   Q2 19-20      Q2  2019/20   2019/20 Q2  Quarterly   \n",
      "2 2019-12-01   Q3 19-20      Q3  2019/20   2019/20 Q3  Quarterly   \n",
      "3 2020-03-01   Q4 19-20      Q4  2019/20   2019/20 Q4  Quarterly   \n",
      "4 2020-06-01   Q1 20-21      Q1  2020/21   2020/21 Q1  Quarterly   \n",
      "\n",
      "   Trust in MPS  Worry about crime  Good job local  \n",
      "0          0.83               0.37            0.56  \n",
      "1          0.85               0.36            0.59  \n",
      "2          0.84               0.40            0.58  \n",
      "3          0.81               0.40            0.57  \n",
      "4          0.82               0.49            0.59  \n",
      "Sheet name: Sheet4\n",
      "                   Date           (All)\n",
      "0                   NaN             NaN\n",
      "1            Row Labels  Average of MPS\n",
      "2      \"Good Job\" local        0.606765\n",
      "3  Contact ward officer        0.249118\n",
      "4        Informed local        0.404412\n"
     ]
    }
   ],
   "source": [
    "path = \"/Users/pvicovanberkel/PycharmProjects/JBG050_Group_8/data/PAS_T&Cdashboard_to Q3 23-24.xlsx\"\n",
    "dfs = pd.read_excel(path, sheet_name=None)\n",
    "\n",
    "for sheet_name, df in dfs.items():\n",
    "    print(f\"Sheet name: {sheet_name}\")\n",
    "    print(df.head())\n",
    "\n"
   ]
  },
  {
   "attachments": {},
   "cell_type": "markdown",
   "metadata": {},
   "source": [
    "### Summary Analysis"
   ]
  },
  {
   "cell_type": "code",
   "execution_count": 8,
   "metadata": {},
   "outputs": [
    {
     "name": "stdout",
     "output_type": "stream",
     "text": [
      "Summary for Sheet1:\n",
      "       Unnamed: 0 Unnamed: 1\n",
      "count          36         36\n",
      "unique         36         36\n",
      "top        Survey      (All)\n",
      "freq            1          1\n",
      "Summary for MPS:\n",
      "                                Date  Proportion\n",
      "count                            291  291.000000\n",
      "mean   2019-07-26 01:14:13.608247296    0.596426\n",
      "min              2014-12-31 00:00:00    0.120000\n",
      "25%              2017-03-31 00:00:00    0.470000\n",
      "50%              2019-06-30 00:00:00    0.660000\n",
      "75%              2021-09-30 00:00:00    0.740000\n",
      "max              2023-12-31 00:00:00    0.880000\n",
      "std                              NaN    0.189186\n",
      "Summary for Borough:\n",
      "                                Date   Proportion          MPS  Unnamed: 6  \\\n",
      "count                           9312  9312.000000  9312.000000         0.0   \n",
      "mean   2019-07-26 01:14:13.608247296     0.599823     0.596426         NaN   \n",
      "min              2014-12-31 00:00:00     0.040000     0.120000         NaN   \n",
      "25%              2017-03-31 00:00:00     0.480000     0.470000         NaN   \n",
      "50%              2019-06-30 00:00:00     0.650000     0.660000         NaN   \n",
      "75%              2021-09-30 00:00:00     0.750000     0.740000         NaN   \n",
      "max              2023-12-31 00:00:00     0.940000     0.880000         NaN   \n",
      "std                              NaN     0.199870     0.188871         NaN   \n",
      "\n",
      "       Unnamed: 7  Unnamed: 9  \n",
      "count         0.0        1.00  \n",
      "mean          NaN        0.71  \n",
      "min           NaN        0.71  \n",
      "25%           NaN        0.71  \n",
      "50%           NaN        0.71  \n",
      "75%           NaN        0.71  \n",
      "max           NaN        0.71  \n",
      "std           NaN         NaN  \n",
      "Summary for PAS London Level:\n",
      "                      Date  Trust in MPS  Worry about crime  Good job local\n",
      "count                   32     32.000000          32.000000       32.000000\n",
      "mean   2021-04-20 01:30:00      0.775312           0.486250        0.534375\n",
      "min    2019-06-01 00:00:00      0.660000           0.340000        0.450000\n",
      "25%    2020-05-09 00:00:00      0.720000           0.407500        0.500000\n",
      "50%    2021-04-16 00:00:00      0.790000           0.490000        0.540000\n",
      "75%    2022-03-24 00:00:00      0.822500           0.570000        0.572500\n",
      "max    2023-03-31 00:00:00      0.850000           0.590000        0.590000\n",
      "std                    NaN      0.053641           0.083037        0.041809\n",
      "Summary for Sheet4:\n",
      "              Date           (All)\n",
      "count           11              10\n",
      "unique          11              10\n",
      "top     Row Labels  Average of MPS\n",
      "freq             1               1\n"
     ]
    }
   ],
   "source": [
    "for sheet_name, df in dfs.items():\n",
    "    print(f\"Summary for {sheet_name}:\")\n",
    "    print(df.describe())  # Provides descriptive statistics for each sheet"
   ]
  },
  {
   "cell_type": "code",
   "execution_count": 13,
   "metadata": {},
   "outputs": [
    {
     "name": "stdout",
     "output_type": "stream",
     "text": [
      "                Borough    Performance Measure     Score\n",
      "0  Barking and Dagenham       \"Good Job\" local  0.575405\n",
      "1  Barking and Dagenham   Contact ward officer  0.213514\n",
      "2  Barking and Dagenham         Informed local  0.396216\n",
      "3  Barking and Dagenham     Listen to concerns  0.678108\n",
      "4  Barking and Dagenham  Relied on to be there  0.685946\n"
     ]
    },
    {
     "data": {
      "image/png": "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",
      "text/plain": [
       "<Figure size 1000x600 with 1 Axes>"
      ]
     },
     "metadata": {},
     "output_type": "display_data"
    }
   ],
   "source": [
    "borough_data = dfs['Borough']\n",
    "borough_data = borough_data.drop(columns=[col for col in borough_data.columns if 'Unnamed' in col])\n",
    "\n",
    "# Renaming columns\n",
    "borough_data.rename(columns={'Measure': 'Performance Measure', 'Proportion': 'Score'}, inplace=True)\n",
    "# Avg scores by Borough and Measure\n",
    "grouped_data = borough_data.groupby(['Borough', 'Performance Measure']).agg({'Score': 'mean'}).reset_index()\n",
    "print(grouped_data.head())\n",
    "\n",
    "# Example: Line plot for 'Good Job' local performance over time in a specific borough\n",
    "good_job_data = dfs['MPS'][dfs['MPS']['Measure'] == '\"Good Job\" local']\n",
    "good_job_data = good_job_data[good_job_data['Borough'] == 'Barking and Dagenham']\n",
    "good_job_data['Date'] = pd.to_datetime(good_job_data['Date'])\n",
    "\n",
    "# Sorting the data by Date to ensure the line plot is ordered\n",
    "good_job_data.sort_values('Date', inplace=True)\n",
    "\n",
    "# Plotting\n",
    "plt.figure(figsize=(10, 6))\n",
    "plt.plot(good_job_data['Date'], good_job_data['Proportion'], marker='o', linestyle='-')\n",
    "plt.title('Performance Trend for \"Good Job\" Local in Barking and Dagenham')\n",
    "plt.xlabel('Date')\n",
    "plt.ylabel('Score')\n",
    "plt.grid(True)\n",
    "plt.xticks(rotation=45)  # Rotate date labels for better readability\n",
    "plt.tight_layout()  # Adjust layout to make room for label rotation\n",
    "plt.show();"
   ]
  },
  {
   "cell_type": "code",
   "execution_count": 2,
   "metadata": {},
   "outputs": [
    {
     "ename": "FileNotFoundError",
     "evalue": "[Errno 2] No such file or directory: '/mnt/data/PAS Data Description.xlsx'",
     "output_type": "error",
     "traceback": [
      "\u001b[0;31m---------------------------------------------------------------------------\u001b[0m",
      "\u001b[0;31mFileNotFoundError\u001b[0m                         Traceback (most recent call last)",
      "Cell \u001b[0;32mIn[2], line 5\u001b[0m\n\u001b[1;32m      3\u001b[0m \u001b[39m# Load the Excel file to examine its contents\u001b[39;00m\n\u001b[1;32m      4\u001b[0m file_path \u001b[39m=\u001b[39m \u001b[39m'\u001b[39m\u001b[39m/mnt/data/PAS Data Description.xlsx\u001b[39m\u001b[39m'\u001b[39m\n\u001b[0;32m----> 5\u001b[0m data_description \u001b[39m=\u001b[39m pd\u001b[39m.\u001b[39;49mread_excel(file_path)\n\u001b[1;32m      7\u001b[0m \u001b[39m# Display the contents of the file, focusing on the columns and their descriptions\u001b[39;00m\n\u001b[1;32m      8\u001b[0m data_description\u001b[39m.\u001b[39mhead()\n",
      "File \u001b[0;32m~/PycharmProjects/JBG050_Group_8/dc2/lib/python3.9/site-packages/pandas/io/excel/_base.py:495\u001b[0m, in \u001b[0;36mread_excel\u001b[0;34m(io, sheet_name, header, names, index_col, usecols, dtype, engine, converters, true_values, false_values, skiprows, nrows, na_values, keep_default_na, na_filter, verbose, parse_dates, date_parser, date_format, thousands, decimal, comment, skipfooter, storage_options, dtype_backend, engine_kwargs)\u001b[0m\n\u001b[1;32m    493\u001b[0m \u001b[39mif\u001b[39;00m \u001b[39mnot\u001b[39;00m \u001b[39misinstance\u001b[39m(io, ExcelFile):\n\u001b[1;32m    494\u001b[0m     should_close \u001b[39m=\u001b[39m \u001b[39mTrue\u001b[39;00m\n\u001b[0;32m--> 495\u001b[0m     io \u001b[39m=\u001b[39m ExcelFile(\n\u001b[1;32m    496\u001b[0m         io,\n\u001b[1;32m    497\u001b[0m         storage_options\u001b[39m=\u001b[39;49mstorage_options,\n\u001b[1;32m    498\u001b[0m         engine\u001b[39m=\u001b[39;49mengine,\n\u001b[1;32m    499\u001b[0m         engine_kwargs\u001b[39m=\u001b[39;49mengine_kwargs,\n\u001b[1;32m    500\u001b[0m     )\n\u001b[1;32m    501\u001b[0m \u001b[39melif\u001b[39;00m engine \u001b[39mand\u001b[39;00m engine \u001b[39m!=\u001b[39m io\u001b[39m.\u001b[39mengine:\n\u001b[1;32m    502\u001b[0m     \u001b[39mraise\u001b[39;00m \u001b[39mValueError\u001b[39;00m(\n\u001b[1;32m    503\u001b[0m         \u001b[39m\"\u001b[39m\u001b[39mEngine should not be specified when passing \u001b[39m\u001b[39m\"\u001b[39m\n\u001b[1;32m    504\u001b[0m         \u001b[39m\"\u001b[39m\u001b[39man ExcelFile - ExcelFile already has the engine set\u001b[39m\u001b[39m\"\u001b[39m\n\u001b[1;32m    505\u001b[0m     )\n",
      "File \u001b[0;32m~/PycharmProjects/JBG050_Group_8/dc2/lib/python3.9/site-packages/pandas/io/excel/_base.py:1550\u001b[0m, in \u001b[0;36mExcelFile.__init__\u001b[0;34m(self, path_or_buffer, engine, storage_options, engine_kwargs)\u001b[0m\n\u001b[1;32m   1548\u001b[0m     ext \u001b[39m=\u001b[39m \u001b[39m\"\u001b[39m\u001b[39mxls\u001b[39m\u001b[39m\"\u001b[39m\n\u001b[1;32m   1549\u001b[0m \u001b[39melse\u001b[39;00m:\n\u001b[0;32m-> 1550\u001b[0m     ext \u001b[39m=\u001b[39m inspect_excel_format(\n\u001b[1;32m   1551\u001b[0m         content_or_path\u001b[39m=\u001b[39;49mpath_or_buffer, storage_options\u001b[39m=\u001b[39;49mstorage_options\n\u001b[1;32m   1552\u001b[0m     )\n\u001b[1;32m   1553\u001b[0m     \u001b[39mif\u001b[39;00m ext \u001b[39mis\u001b[39;00m \u001b[39mNone\u001b[39;00m:\n\u001b[1;32m   1554\u001b[0m         \u001b[39mraise\u001b[39;00m \u001b[39mValueError\u001b[39;00m(\n\u001b[1;32m   1555\u001b[0m             \u001b[39m\"\u001b[39m\u001b[39mExcel file format cannot be determined, you must specify \u001b[39m\u001b[39m\"\u001b[39m\n\u001b[1;32m   1556\u001b[0m             \u001b[39m\"\u001b[39m\u001b[39man engine manually.\u001b[39m\u001b[39m\"\u001b[39m\n\u001b[1;32m   1557\u001b[0m         )\n",
      "File \u001b[0;32m~/PycharmProjects/JBG050_Group_8/dc2/lib/python3.9/site-packages/pandas/io/excel/_base.py:1402\u001b[0m, in \u001b[0;36minspect_excel_format\u001b[0;34m(content_or_path, storage_options)\u001b[0m\n\u001b[1;32m   1399\u001b[0m \u001b[39mif\u001b[39;00m \u001b[39misinstance\u001b[39m(content_or_path, \u001b[39mbytes\u001b[39m):\n\u001b[1;32m   1400\u001b[0m     content_or_path \u001b[39m=\u001b[39m BytesIO(content_or_path)\n\u001b[0;32m-> 1402\u001b[0m \u001b[39mwith\u001b[39;00m get_handle(\n\u001b[1;32m   1403\u001b[0m     content_or_path, \u001b[39m\"\u001b[39;49m\u001b[39mrb\u001b[39;49m\u001b[39m\"\u001b[39;49m, storage_options\u001b[39m=\u001b[39;49mstorage_options, is_text\u001b[39m=\u001b[39;49m\u001b[39mFalse\u001b[39;49;00m\n\u001b[1;32m   1404\u001b[0m ) \u001b[39mas\u001b[39;00m handle:\n\u001b[1;32m   1405\u001b[0m     stream \u001b[39m=\u001b[39m handle\u001b[39m.\u001b[39mhandle\n\u001b[1;32m   1406\u001b[0m     stream\u001b[39m.\u001b[39mseek(\u001b[39m0\u001b[39m)\n",
      "File \u001b[0;32m~/PycharmProjects/JBG050_Group_8/dc2/lib/python3.9/site-packages/pandas/io/common.py:882\u001b[0m, in \u001b[0;36mget_handle\u001b[0;34m(path_or_buf, mode, encoding, compression, memory_map, is_text, errors, storage_options)\u001b[0m\n\u001b[1;32m    873\u001b[0m         handle \u001b[39m=\u001b[39m \u001b[39mopen\u001b[39m(\n\u001b[1;32m    874\u001b[0m             handle,\n\u001b[1;32m    875\u001b[0m             ioargs\u001b[39m.\u001b[39mmode,\n\u001b[0;32m   (...)\u001b[0m\n\u001b[1;32m    878\u001b[0m             newline\u001b[39m=\u001b[39m\u001b[39m\"\u001b[39m\u001b[39m\"\u001b[39m,\n\u001b[1;32m    879\u001b[0m         )\n\u001b[1;32m    880\u001b[0m     \u001b[39melse\u001b[39;00m:\n\u001b[1;32m    881\u001b[0m         \u001b[39m# Binary mode\u001b[39;00m\n\u001b[0;32m--> 882\u001b[0m         handle \u001b[39m=\u001b[39m \u001b[39mopen\u001b[39;49m(handle, ioargs\u001b[39m.\u001b[39;49mmode)\n\u001b[1;32m    883\u001b[0m     handles\u001b[39m.\u001b[39mappend(handle)\n\u001b[1;32m    885\u001b[0m \u001b[39m# Convert BytesIO or file objects passed with an encoding\u001b[39;00m\n",
      "\u001b[0;31mFileNotFoundError\u001b[0m: [Errno 2] No such file or directory: '/mnt/data/PAS Data Description.xlsx'"
     ]
    }
   ],
   "source": []
  },
  {
   "cell_type": "code",
   "execution_count": null,
   "metadata": {},
   "outputs": [],
   "source": []
  }
 ],
 "metadata": {
  "kernelspec": {
   "display_name": "dc2",
   "language": "python",
   "name": "python3"
  },
  "language_info": {
   "codemirror_mode": {
    "name": "ipython",
    "version": 3
   },
   "file_extension": ".py",
   "mimetype": "text/x-python",
   "name": "python",
   "nbconvert_exporter": "python",
   "pygments_lexer": "ipython3",
<<<<<<< HEAD
   "version": "3.9.13"
=======
   "version": "3.10.13"
>>>>>>> origin/main
  },
  "orig_nbformat": 4,
  "vscode": {
   "interpreter": {
    "hash": "f85898680f01b831a416266c476be0d02acc82894c7aedd37bcd5fb7345f16f9"
   }
  }
 },
 "nbformat": 4,
 "nbformat_minor": 2
}
